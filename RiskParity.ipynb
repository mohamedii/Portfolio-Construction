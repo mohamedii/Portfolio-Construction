{
 "cells": [
  {
   "cell_type": "code",
   "execution_count": 5,
   "metadata": {},
   "outputs": [],
   "source": [
    "import numpy as np\n",
    "import scipy.linalg as LA\n",
    "import matplotlib.pyplot as plt"
   ]
  },
  {
   "cell_type": "code",
   "execution_count": 60,
   "metadata": {},
   "outputs": [],
   "source": [
    "# Risk Decomposition\n",
    "\n",
    "def RiskDecomp(weights,CovMatrix):\n",
    "\n",
    "    weights=np.array(weights)\n",
    "    CovMatrix=np.array(CovMatrix)\n",
    "    n=weights.shape[0]\n",
    "    \n",
    "    MarginalRisk=np.ones((n,1))\n",
    "    Beta=np.ones((n,1))\n",
    "    RiskContr=np.ones((n,1))\n",
    "\n",
    "    PVar=np.transpose(weights) @ CovMatrix @ weights\n",
    "\n",
    "    for i in range(n):\n",
    "        temp=0\n",
    "    \n",
    "        for j in range(n):\n",
    "            temp=temp+weights[j]*CovMatrix[j,i]\n",
    "    \n",
    "            MarginalRisk[i]=temp/np.sqrt(PVar)\n",
    "            Beta[i]=temp/PVar\n",
    "            RiskContr[i,1]=weights[i]*MarginalRisk[i]\n",
    "    \n",
    "    \n",
    "    return MarginalRisk, Beta, RiskContr"
   ]
  },
  {
   "cell_type": "code",
   "execution_count": 63,
   "metadata": {},
   "outputs": [
    {
     "name": "stdout",
     "output_type": "stream",
     "text": [
      "MarginalRisk =[[0.81334887]\n",
      " [0.84239704]\n",
      " [1.00622875]]\n",
      "Beta =[[0.94505198]\n",
      " [0.97880383]\n",
      " [1.1691643 ]]\n",
      "RiskContr =[[0.40667444]\n",
      " [0.25271911]\n",
      " [0.20124575]]\n"
     ]
    }
   ],
   "source": [
    "weights=[[0.5],[0.3],[0.2]]\n",
    "CovMatrix=[[0.5,0.7,1.2],[0.7,0.85,0.6],[1.2,0.6,0.43]]\n",
    "\n",
    "MarginalRisk, Beta, RiskContr = RiskDecomp(weights, CovMatrix)\n",
    "print(\"MarginalRisk =\" + str(MarginalRisk))\n",
    "print(\"Beta =\" + str(Beta))\n",
    "print(\"RiskContr =\" + str(RiskContr))"
   ]
  },
  {
   "cell_type": "code",
   "execution_count": null,
   "metadata": {},
   "outputs": [],
   "source": [
    "\n",
    "\n",
    "\n",
    "function [SS]=RPObj(weights,CovMatrix)\n",
    "\n",
    "[~, RiskCont, ~]=RiskDecomp(weights,CovMatrix);\n",
    "\n",
    "[X,Y]=meshgrid(RiskCont);\n",
    "resMatrix=sqrt((Y-X).^2);\n",
    "\n",
    "SS=sum(resMatrix(:))./2;"
   ]
  },
  {
   "cell_type": "code",
   "execution_count": null,
   "metadata": {},
   "outputs": [],
   "source": []
  }
 ],
 "metadata": {
  "kernelspec": {
   "display_name": "Python 3",
   "language": "python",
   "name": "python3"
  },
  "language_info": {
   "codemirror_mode": {
    "name": "ipython",
    "version": 3
   },
   "file_extension": ".py",
   "mimetype": "text/x-python",
   "name": "python",
   "nbconvert_exporter": "python",
   "pygments_lexer": "ipython3",
   "version": "3.7.4"
  }
 },
 "nbformat": 4,
 "nbformat_minor": 4
}
